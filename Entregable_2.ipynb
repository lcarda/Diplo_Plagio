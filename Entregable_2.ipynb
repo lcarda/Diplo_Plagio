{
  "cells": [
    {
      "cell_type": "markdown",
      "metadata": {
        "id": "Jsq8jMXfmaxT"
      },
      "source": [
        "#Entregable 2\n",
        "##Grupo A\n",
        "###Diplomatura de Ciencias de Datos\n"
      ]
    },
    {
      "cell_type": "markdown",
      "metadata": {
        "id": "xEYrc3f3m6WX"
      },
      "source": [
        "**Pablo:** en el presente entregable vas a encontrar la visualización que hicimos del corpus de textos suministrados junto a un breve análisis del mismo.\n",
        "\n",
        "Muchas gracias."
      ]
    },
    {
      "cell_type": "markdown",
      "metadata": {
        "id": "kHdZ3rwRmqpl"
      },
      "source": [
        "####Insumos para la resolución del ejercicio"
      ]
    },
    {
      "cell_type": "markdown",
      "metadata": {
        "id": "-x9CkkQH3ysn"
      },
      "source": [
        "✅ Drive de Pablo:\n",
        "\n",
        "https://drive.google.com/drive/u/1/folders/1xQQ50As714sQcd7HF21kfud0Yth5h98E\n",
        "\n",
        "✅ Corpus Emi:\n",
        "\n",
        "https://drive.google.com/drive/folders/1Wh7vXQCmTmDYvyOwrRt_ixJ6Lue5NI5T?usp=sharing\n",
        "\n"
      ]
    },
    {
      "cell_type": "markdown",
      "metadata": {
        "id": "XCKo7bn4nNH5"
      },
      "source": [
        "###Resolución"
      ]
    },
    {
      "cell_type": "markdown",
      "metadata": {
        "id": "XM-8uDEibm-E"
      },
      "source": [
        "Union del corpus descargado y armado del csv utilizado. Este script se edito porque fue ejecutado de manera local."
      ]
    },
    {
      "cell_type": "code",
      "execution_count": null,
      "metadata": {
        "id": "AeyT1hwMbeQ5"
      },
      "outputs": [],
      "source": [
        "import os\n",
        "import shutil\n",
        "\n",
        "path2 = os.path.join(os.getcwd())\n",
        "\n",
        "corpus_path = os.path.join(os.getcwd(), \"corpus\")\n",
        "\n",
        "if not os.path.exists(corpus_path):\n",
        "    os.makedirs(corpus_path)\n",
        "path = 'pan-plagiarism-corpus-2011\\intrinsic-detection-corpus\\suspicious-document'\n",
        "\n",
        "tree = os.walk(path)\n",
        "\n",
        "for folder, sub_folders, files in tree:\n",
        "    print(\"Currently looking at folder: \"+ folder)\n",
        "    print(\"\\n\")\n",
        "    print(\"THE SUBFOLDERS ARE: \")\n",
        "    for sub_fold in sub_folders:\n",
        "        print(\"\\t Subfolder: \" + sub_fold )\n",
        "    print(\"\\n\")\n",
        "    print(\"THE FILES ARE: \")\n",
        "    for f in files:\n",
        "        print(\"\\t File: \"+ f)\n",
        "        absolute_path = os.path.join(path2, folder, f)\n",
        "        shutil.copy2(absolute_path, \"corpus\" + \"/\" + f)\n",
        "\n",
        "\n",
        "    print(\"\\n\")\n"
      ]
    },
    {
      "cell_type": "markdown",
      "metadata": {
        "id": "BVgjyb8fnbli"
      },
      "source": [
        "####Preparación de los datos"
      ]
    },
    {
      "cell_type": "code",
      "execution_count": null,
      "metadata": {
        "colab": {
          "base_uri": "https://localhost:8080/"
        },
        "id": "T1ZKl3pbeBHR",
        "outputId": "8b2479be-ace3-4e84-d217-7de857c60092"
      },
      "outputs": [
        {
          "output_type": "stream",
          "name": "stdout",
          "text": [
            "Mounted at /content/drive\n"
          ]
        }
      ],
      "source": [
        "from google.colab import drive\n",
        "drive.mount('/content/drive')\n"
      ]
    },
    {
      "cell_type": "code",
      "execution_count": null,
      "metadata": {
        "id": "Y5UGmc7ivb3S"
      },
      "outputs": [],
      "source": [
        "import pandas as pd\n",
        "pd.plotting.register_matplotlib_converters()\n",
        "import matplotlib.pyplot as plt\n",
        "%matplotlib inline\n",
        "import seaborn as sns\n",
        "import numpy as np\n"
      ]
    },
    {
      "cell_type": "code",
      "execution_count": null,
      "metadata": {
        "id": "FQBnka3-eidG"
      },
      "outputs": [],
      "source": [
        "path=\"/content/drive/MyDrive/intrinsic.csv\"\n"
      ]
    },
    {
      "cell_type": "code",
      "execution_count": null,
      "metadata": {
        "id": "nBBXaqfivefI"
      },
      "outputs": [],
      "source": [
        "corpus=pd.read_csv(path)"
      ]
    },
    {
      "cell_type": "code",
      "execution_count": null,
      "metadata": {
        "colab": {
          "base_uri": "https://localhost:8080/"
        },
        "id": "88NAtDeQhcWc",
        "outputId": "35e126b0-785a-4df6-f770-1025c6421d42"
      },
      "outputs": [
        {
          "output_type": "stream",
          "name": "stdout",
          "text": [
            "<class 'pandas.core.frame.DataFrame'>\n",
            "RangeIndex: 4752 entries, 0 to 4751\n",
            "Data columns (total 3 columns):\n",
            " #   Column    Non-Null Count  Dtype \n",
            "---  ------    --------------  ----- \n",
            " 0   index     4752 non-null   int64 \n",
            " 1   filename  4752 non-null   object\n",
            " 2   text      4752 non-null   object\n",
            "dtypes: int64(1), object(2)\n",
            "memory usage: 111.5+ KB\n"
          ]
        }
      ],
      "source": [
        "corpus.info()"
      ]
    },
    {
      "cell_type": "code",
      "execution_count": null,
      "metadata": {
        "colab": {
          "base_uri": "https://localhost:8080/"
        },
        "id": "kecwocD92NWC",
        "outputId": "f9af31fa-97fc-4f57-9433-89ef7c463750"
      },
      "outputs": [
        {
          "output_type": "stream",
          "name": "stdout",
          "text": [
            "Collecting textstat\n",
            "  Downloading textstat-0.7.3-py3-none-any.whl (105 kB)\n",
            "\u001b[?25l     \u001b[90m━━━━━━━━━━━━━━━━━━━━━━━━━━━━━━━━━━━━━━━━\u001b[0m \u001b[32m0.0/105.1 kB\u001b[0m \u001b[31m?\u001b[0m eta \u001b[36m-:--:--\u001b[0m\r\u001b[2K     \u001b[90m━━━━━━━━━━━━━━━━━━━━━━━━━━━━━━━━━━━━━━━\u001b[0m \u001b[32m105.1/105.1 kB\u001b[0m \u001b[31m3.5 MB/s\u001b[0m eta \u001b[36m0:00:00\u001b[0m\n",
            "\u001b[?25hCollecting pyphen (from textstat)\n",
            "  Downloading pyphen-0.14.0-py3-none-any.whl (2.0 MB)\n",
            "\u001b[2K     \u001b[90m━━━━━━━━━━━━━━━━━━━━━━━━━━━━━━━━━━━━━━━━\u001b[0m \u001b[32m2.0/2.0 MB\u001b[0m \u001b[31m23.2 MB/s\u001b[0m eta \u001b[36m0:00:00\u001b[0m\n",
            "\u001b[?25hInstalling collected packages: pyphen, textstat\n",
            "Successfully installed pyphen-0.14.0 textstat-0.7.3\n",
            "Collecting lexicalrichness\n",
            "  Downloading lexicalrichness-0.5.0.tar.gz (96 kB)\n",
            "\u001b[2K     \u001b[90m━━━━━━━━━━━━━━━━━━━━━━━━━━━━━━━━━━━━━━━━\u001b[0m \u001b[32m96.5/96.5 kB\u001b[0m \u001b[31m3.3 MB/s\u001b[0m eta \u001b[36m0:00:00\u001b[0m\n",
            "\u001b[?25h  Preparing metadata (setup.py) ... \u001b[?25l\u001b[?25hdone\n",
            "Requirement already satisfied: scipy>=1.0.0 in /usr/local/lib/python3.10/dist-packages (from lexicalrichness) (1.10.1)\n",
            "Requirement already satisfied: textblob>=0.15.3 in /usr/local/lib/python3.10/dist-packages (from lexicalrichness) (0.17.1)\n",
            "Requirement already satisfied: pandas in /usr/local/lib/python3.10/dist-packages (from lexicalrichness) (1.5.3)\n",
            "Requirement already satisfied: matplotlib in /usr/local/lib/python3.10/dist-packages (from lexicalrichness) (3.7.1)\n",
            "Requirement already satisfied: numpy<1.27.0,>=1.19.5 in /usr/local/lib/python3.10/dist-packages (from scipy>=1.0.0->lexicalrichness) (1.22.4)\n",
            "Requirement already satisfied: nltk>=3.1 in /usr/local/lib/python3.10/dist-packages (from textblob>=0.15.3->lexicalrichness) (3.8.1)\n",
            "Requirement already satisfied: contourpy>=1.0.1 in /usr/local/lib/python3.10/dist-packages (from matplotlib->lexicalrichness) (1.1.0)\n",
            "Requirement already satisfied: cycler>=0.10 in /usr/local/lib/python3.10/dist-packages (from matplotlib->lexicalrichness) (0.11.0)\n",
            "Requirement already satisfied: fonttools>=4.22.0 in /usr/local/lib/python3.10/dist-packages (from matplotlib->lexicalrichness) (4.41.0)\n",
            "Requirement already satisfied: kiwisolver>=1.0.1 in /usr/local/lib/python3.10/dist-packages (from matplotlib->lexicalrichness) (1.4.4)\n",
            "Requirement already satisfied: packaging>=20.0 in /usr/local/lib/python3.10/dist-packages (from matplotlib->lexicalrichness) (23.1)\n",
            "Requirement already satisfied: pillow>=6.2.0 in /usr/local/lib/python3.10/dist-packages (from matplotlib->lexicalrichness) (8.4.0)\n",
            "Requirement already satisfied: pyparsing>=2.3.1 in /usr/local/lib/python3.10/dist-packages (from matplotlib->lexicalrichness) (3.1.0)\n",
            "Requirement already satisfied: python-dateutil>=2.7 in /usr/local/lib/python3.10/dist-packages (from matplotlib->lexicalrichness) (2.8.2)\n",
            "Requirement already satisfied: pytz>=2020.1 in /usr/local/lib/python3.10/dist-packages (from pandas->lexicalrichness) (2022.7.1)\n",
            "Requirement already satisfied: click in /usr/local/lib/python3.10/dist-packages (from nltk>=3.1->textblob>=0.15.3->lexicalrichness) (8.1.6)\n",
            "Requirement already satisfied: joblib in /usr/local/lib/python3.10/dist-packages (from nltk>=3.1->textblob>=0.15.3->lexicalrichness) (1.3.1)\n",
            "Requirement already satisfied: regex>=2021.8.3 in /usr/local/lib/python3.10/dist-packages (from nltk>=3.1->textblob>=0.15.3->lexicalrichness) (2022.10.31)\n",
            "Requirement already satisfied: tqdm in /usr/local/lib/python3.10/dist-packages (from nltk>=3.1->textblob>=0.15.3->lexicalrichness) (4.65.0)\n",
            "Requirement already satisfied: six>=1.5 in /usr/local/lib/python3.10/dist-packages (from python-dateutil>=2.7->matplotlib->lexicalrichness) (1.16.0)\n",
            "Building wheels for collected packages: lexicalrichness\n",
            "  Building wheel for lexicalrichness (setup.py) ... \u001b[?25l\u001b[?25hdone\n",
            "  Created wheel for lexicalrichness: filename=lexicalrichness-0.5.0-py3-none-any.whl size=15517 sha256=402afe8e1c37b02b4dc595bd8ee849d030c216112c66235ef980e441a96a27b4\n",
            "  Stored in directory: /root/.cache/pip/wheels/42/68/59/1edd70c2b91dc172fa208eb34799e90bc6c093bfbb862ff017\n",
            "Successfully built lexicalrichness\n",
            "Installing collected packages: lexicalrichness\n",
            "Successfully installed lexicalrichness-0.5.0\n"
          ]
        }
      ],
      "source": [
        "!pip install textstat\n",
        "!pip install lexicalrichness"
      ]
    },
    {
      "cell_type": "code",
      "execution_count": null,
      "metadata": {
        "colab": {
          "base_uri": "https://localhost:8080/"
        },
        "id": "2agwH8DJvn5I",
        "outputId": "2baa95a0-930a-44eb-d067-ce60d2b427a2"
      },
      "outputs": [
        {
          "output_type": "stream",
          "name": "stderr",
          "text": [
            "[nltk_data] Downloading package punkt to /root/nltk_data...\n",
            "[nltk_data]   Unzipping tokenizers/punkt.zip.\n"
          ]
        },
        {
          "output_type": "execute_result",
          "data": {
            "text/plain": [
              "True"
            ]
          },
          "metadata": {},
          "execution_count": 10
        }
      ],
      "source": [
        "import re\n",
        "import string\n",
        "import operator\n",
        "import functools\n",
        "import glob\n",
        "import os\n",
        "import matplotlib.colors as mc\n",
        "import nltk\n",
        "import numpy as np\n",
        "import textstat\n",
        "import unicodedata\n",
        "import pandas as pd\n",
        "import matplotlib.pyplot as plt\n",
        "\n",
        "\n",
        "import textstat\n",
        "from lexicalrichness import LexicalRichness\n",
        "from collections import Counter\n",
        "\n",
        "from nltk.corpus import stopwords\n",
        "from nltk.stem import SnowballStemmer\n",
        "from nltk.tokenize import word_tokenize\n",
        "from nltk.tokenize import TreebankWordTokenizer\n",
        "from nltk.tokenize import sent_tokenize\n",
        "\n",
        "from nltk.tag import pos_tag, map_tag\n",
        "\n",
        "\n",
        " # Feature Selection\n",
        "from sklearn.feature_selection import VarianceThreshold\n",
        "\n",
        "nltk.download('punkt')\n"
      ]
    },
    {
      "cell_type": "markdown",
      "metadata": {
        "id": "LpEyOLQ3yv4r"
      },
      "source": [
        "##Segmentación del df"
      ]
    },
    {
      "cell_type": "markdown",
      "metadata": {
        "id": "0AwW827UtkSy"
      },
      "source": [
        "Con este código segmentamos el texto en oraciones (sentSegmentation) y en párrafos (paraSegmentation)"
      ]
    },
    {
      "cell_type": "code",
      "execution_count": null,
      "metadata": {
        "id": "3LL4Hu4lzB65"
      },
      "outputs": [],
      "source": [
        "class Segmentation:\n",
        "\n",
        "    def __init__(self, text):\n",
        "\n",
        "        self.text = text\n",
        "\n",
        "    def sentSegmentation(self):\n",
        "\n",
        "        return sent_tokenize(self.text)\n",
        "\n",
        "    def paraSegmentation(self):\n",
        "\n",
        "        texto = self.text.split(\"\\n\\n\")\n",
        "\n",
        "        return list(filter(bool, texto))"
      ]
    },
    {
      "cell_type": "code",
      "execution_count": null,
      "metadata": {
        "id": "nPnvwnMGzjB_"
      },
      "outputs": [],
      "source": [
        "def getfleshReadingEase(text):\n",
        "\n",
        "    fleshReadingEase = 0.0\n",
        "\n",
        "    fleshReadingEase = textstat.flesch_reading_ease(text)\n",
        "\n",
        "    return fleshReadingEase\n",
        "\n",
        "\n",
        "def gettypeToken(text):\n",
        "    tam = len(text)\n",
        "    if tam <= 0:\n",
        "        text = 0\n",
        "    else:\n",
        "        try:\n",
        "            text = LexicalRichness(text)\n",
        "            text = text.ttr\n",
        "        except ZeroDivisionError:\n",
        "            text = 0\n",
        "    return text"
      ]
    },
    {
      "cell_type": "code",
      "execution_count": null,
      "metadata": {
        "id": "Wq9kROLh091J"
      },
      "outputs": [],
      "source": [
        "class Metricas:\n",
        "\n",
        "    def __init__(self, text):\n",
        "\n",
        "        self.text = text\n",
        "\n",
        "    def sentSegmentation(self):\n",
        "\n",
        "        return sent_tokenize(self.text)\n",
        "\n",
        "\n",
        "    def paraSegmentation(self):\n",
        "\n",
        "        texto = self.text.split(\"\\n\\n\")\n",
        "\n",
        "        return list(filter(bool, texto))"
      ]
    },
    {
      "cell_type": "markdown",
      "source": [
        "## Limpieza del texto, metricas y base de datos\n"
      ],
      "metadata": {
        "id": "cU4AkJ2hX4He"
      }
    },
    {
      "cell_type": "markdown",
      "source": [
        "para la columnas con metricas para texto y texto limpio"
      ],
      "metadata": {
        "id": "m-9IH_XRYjTm"
      }
    },
    {
      "cell_type": "code",
      "source": [
        "import textstat\n",
        "\n",
        "def calculate_automated_readability_index(text):\n",
        "    return textstat.automated_readability_index(text)\n",
        "#Índice de Legibilidad Automatizado (Automated Readability Index): Es una medida que estima\n",
        "#el nivel de dificultad de lectura de un texto en inglés. Utiliza una fórmula matemática para\n",
        "#calcular un puntaje que representa el grado de dificultad de lectura. Un puntaje más alto indica\n",
        "#un texto más difícil de leer, mientras que un puntaje más bajo indica un texto más fácil de leer.\n",
        "\n",
        "def calculate_dale_chall_readability_score(text):\n",
        "    return textstat.dale_chall_readability_score(text)\n",
        "\n",
        "#Puntaje de Legibilidad Dale-Chall (Dale-Chall Readability Score): Es otra medida que evalúa la dificultad\n",
        "#de lectura de un texto en inglés. A diferencia de otros tests, este utiliza una tabla de búsqueda de las 3000\n",
        "#palabras más comúnmente utilizadas en inglés. El puntaje resultante indica el nivel de grado de lectura utilizando\n",
        "#la Fórmula Nueva de Dale-Chall.\n",
        "\n",
        "\n",
        "def count_sentences(text):\n",
        "    return textstat.sentence_count(text)\n",
        "\n",
        "def count_polysyllables(text):\n",
        "    return textstat.polysyllabcount(text)\n",
        "\n",
        "def count_monosyllables(text):\n",
        "    return textstat.monosyllabcount(text)"
      ],
      "metadata": {
        "id": "QAFJA7kQYP8U"
      },
      "execution_count": null,
      "outputs": []
    },
    {
      "cell_type": "markdown",
      "source": [
        "Para limpieza del texto"
      ],
      "metadata": {
        "id": "46kR9g6eYsLJ"
      }
    },
    {
      "cell_type": "code",
      "source": [
        "SPECIAL_CHARACTERS = []\n",
        "\n",
        "SPECIAL_CHARACTERS.extend(map(chr, range(0, 32)))\n",
        "SPECIAL_CHARACTERS.extend(map(chr, range(33, 48)))\n",
        "SPECIAL_CHARACTERS.extend(map(chr, range(58, 65)))\n",
        "SPECIAL_CHARACTERS.extend(map(chr, range(91, 97)))\n",
        "SPECIAL_CHARACTERS.extend(map(chr, range(123, 225)))\n",
        "SPECIAL_CHARACTERS.extend(map(chr, range(226, 233)))\n",
        "SPECIAL_CHARACTERS.extend(map(chr, range(234, 237)))\n",
        "SPECIAL_CHARACTERS.extend(map(chr, range(238, 241)))\n",
        "SPECIAL_CHARACTERS.extend(map(chr, range(242, 243)))\n",
        "SPECIAL_CHARACTERS.extend(map(chr, range(244, 250)))\n",
        "SPECIAL_CHARACTERS.extend(map(chr, range(251, 880)))"
      ],
      "metadata": {
        "id": "apKH5TxSYauo"
      },
      "execution_count": null,
      "outputs": []
    },
    {
      "cell_type": "code",
      "source": [
        "class CleanText():\n",
        "\n",
        "    def __init__(self, text, language=\"english\"):\n",
        "\n",
        "        self.text = text\n",
        "\n",
        "        self.language = language\n",
        "\n",
        "        self.clean_text = None\n",
        "\n",
        "        self.remove_spec_text = None\n",
        "\n",
        "        self.remove_stop_text = None\n",
        "\n",
        "        self.lemma_text = None\n",
        "\n",
        "    def removePatterns(self):\n",
        "\n",
        "        replacements = (\n",
        "            (\"á\", \"a\"),\n",
        "            (\"é\", \"e\"),\n",
        "            (\"í\", \"i\"),\n",
        "            (\"ó\", \"o\"),\n",
        "            (\"ú\", \"u\"),\n",
        "        )\n",
        "\n",
        "        self.text = str(self.text)\n",
        "\n",
        "        self.clean_text = self.text.lower()\n",
        "\n",
        "        self.clean_text = re.sub(r\"\\s{2,}\", \" \", self.clean_text)\n",
        "\n",
        "        self.clean_text = re.sub(r\"\\n\", \" \", self.clean_text)\n",
        "\n",
        "        self.clean_text = re.sub(r\"\\d+\", \" \", self.clean_text)\n",
        "\n",
        "        self.clean_text = re.sub(r\"^\\s+\", \" \", self.clean_text)\n",
        "\n",
        "        self.clean_text = re.sub(r\"\\s+\", \" \", self.clean_text)\n",
        "\n",
        "        for a, b in replacements:\n",
        "\n",
        "            self.clean_text = self.clean_text.replace(a, b).replace(a.upper(), b.upper())\n",
        "\n",
        "        return self.clean_text\n",
        "\n",
        "    def removeSpecChars(self):\n",
        "\n",
        "        remove_patterns = self.removePatterns()\n",
        "\n",
        "        tokens = list(word_tokenize(remove_patterns))\n",
        "\n",
        "        clean_tokens = tokens.copy()\n",
        "\n",
        "        for i in range(len(clean_tokens)):\n",
        "\n",
        "            for special_character in SPECIAL_CHARACTERS:\n",
        "\n",
        "                clean_tokens[i] = clean_tokens[i].replace(special_character, '')\n",
        "\n",
        "        clean_tokens = [token for token in clean_tokens if token]\n",
        "\n",
        "        self.remove_spec_text = \" \".join(clean_tokens)\n",
        "\n",
        "        return self.remove_spec_text"
      ],
      "metadata": {
        "id": "QRYd9A_mYdiF"
      },
      "execution_count": null,
      "outputs": []
    },
    {
      "cell_type": "code",
      "source": [
        "data_con_cl=[]\n",
        "\n",
        "data_con_cl=pd.DataFrame(data_con_cl,columns=['id_documento','id_segmento','text','automa_readability_ind_or','dale_chall_readability_or','polysyllables_or','count_monosyllables_or','text_limpio','automa_readability_ind_cl','dale_chall_readability_cl','polysyllables_cl','count_monosyllables_cl','init_s','largo'])\n",
        "\n",
        "for i in np.arange(0,corpus.shape[0], 1, dtype=int):\n",
        "  text=corpus.iloc[i,2]\n",
        "  Seg = Segmentation(text)\n",
        "  paraSeg = Seg.paraSegmentation()\n",
        "  data_text_con_cl=[]\n",
        "  init_text=0\n",
        "\n",
        "  for j, value in enumerate(paraSeg):\n",
        "    texto_limpio= CleanText(value).removeSpecChars()\n",
        "\n",
        "    data_text_con_cl.append([i,j, value,calculate_automated_readability_index(value),calculate_dale_chall_readability_score(value),count_polysyllables(value),count_monosyllables(value),texto_limpio,calculate_automated_readability_index(texto_limpio),calculate_dale_chall_readability_score(texto_limpio),count_polysyllables(texto_limpio),count_monosyllables(texto_limpio),init_text,len(value)])\n",
        "\n",
        "    init_text += len(value)\n",
        "\n",
        "  data_text_cl_df=pd.DataFrame(data_text_con_cl, columns=['id_documento','id_segmento','text','automa_readability_ind_or','dale_chall_readability_or','polysyllables_or','count_monosyllables_or','text_limpio','automa_readability_ind_cl','dale_chall_readability_cl','polysyllables_cl','count_monosyllables_cl','init_s','largo'])\n",
        "  data_con_cl = pd.concat([data_con_cl, data_text_cl_df])"
      ],
      "metadata": {
        "id": "DL1sZZFBYvyw"
      },
      "execution_count": null,
      "outputs": []
    },
    {
      "cell_type": "code",
      "source": [
        "data_con_cl.to_csv('/content/drive/My Drive/idata_con_cl.csv', index=False)"
      ],
      "metadata": {
        "id": "jcJ5ntXGZYA9"
      },
      "execution_count": null,
      "outputs": []
    },
    {
      "cell_type": "code",
      "source": [
        "import sqlite3"
      ],
      "metadata": {
        "id": "-d28MUOKU7JT"
      },
      "execution_count": null,
      "outputs": []
    },
    {
      "cell_type": "markdown",
      "source": [
        "## TF-IDF Vectorizer"
      ],
      "metadata": {
        "id": "ejbSTu316mNM"
      }
    },
    {
      "cell_type": "code",
      "execution_count": null,
      "metadata": {
        "id": "XG2q0CjBLp8k"
      },
      "outputs": [],
      "source": [
        "from sklearn.feature_selection import VarianceThreshold\n",
        "from sklearn.feature_extraction.text import TfidfVectorizer"
      ]
    },
    {
      "cell_type": "code",
      "execution_count": null,
      "metadata": {
        "id": "VotE6t-yFv2u"
      },
      "outputs": [],
      "source": [
        "text_data = corpus['text'].tolist()\n"
      ]
    },
    {
      "cell_type": "code",
      "execution_count": null,
      "metadata": {
        "id": "YzyQB5A9F1XC"
      },
      "outputs": [],
      "source": [
        "vectorizer = TfidfVectorizer(stop_words='english',strip_accents='ascii', lowercase=True,min_df=0.1)\n",
        "tf_idf = vectorizer.fit_transform(text_data)"
      ]
    },
    {
      "cell_type": "code",
      "execution_count": null,
      "metadata": {
        "id": "cOY9Aava4j5m"
      },
      "outputs": [],
      "source": [
        "feature_names = vectorizer.get_feature_names_out()"
      ]
    },
    {
      "cell_type": "code",
      "execution_count": null,
      "metadata": {
        "id": "ujA5P4yA4j5n",
        "colab": {
          "base_uri": "https://localhost:8080/"
        },
        "outputId": "c59ffa10-51e9-41cf-9fc7-414e54dd1240"
      },
      "outputs": [
        {
          "output_type": "execute_result",
          "data": {
            "text/plain": [
              "8035"
            ]
          },
          "metadata": {},
          "execution_count": 15
        }
      ],
      "source": [
        "len(feature_names)"
      ]
    },
    {
      "cell_type": "code",
      "execution_count": null,
      "metadata": {
        "id": "QlxccAutF5dA"
      },
      "outputs": [],
      "source": [
        "feature_names = vectorizer.get_feature_names_out()\n",
        "doc_term_matrix = pd.DataFrame(tf_idf.toarray(), columns=feature_names)"
      ]
    },
    {
      "cell_type": "code",
      "execution_count": null,
      "metadata": {
        "id": "3UaRz539LzPt",
        "colab": {
          "base_uri": "https://localhost:8080/",
          "height": 299
        },
        "outputId": "189af66c-a00f-4f5c-dc1a-c186bb1eb679"
      },
      "outputs": [
        {
          "output_type": "execute_result",
          "data": {
            "text/plain": [
              "        000        10       100        11        12        13        14  \\\n",
              "0  0.000000  0.035237  0.000000  0.013180  0.025226  0.000000  0.000000   \n",
              "1  0.000000  0.005191  0.000000  0.000000  0.000000  0.000000  0.000000   \n",
              "2  0.000000  0.000000  0.000000  0.000000  0.000000  0.019268  0.006379   \n",
              "3  0.000000  0.000000  0.000000  0.000000  0.000000  0.000000  0.000000   \n",
              "4  0.402147  0.082535  0.035444  0.061741  0.049239  0.010712  0.021277   \n",
              "\n",
              "         15        16   17  ...      york     young   younger  youngest  \\\n",
              "0  0.012987  0.000000  0.0  ...  0.000000  0.000000  0.000000       0.0   \n",
              "1  0.002870  0.009083  0.0  ...  0.002292  0.011798  0.004443       0.0   \n",
              "2  0.006080  0.006415  0.0  ...  0.000000  0.015622  0.000000       0.0   \n",
              "3  0.000000  0.000000  0.0  ...  0.000000  0.064829  0.000000       0.0   \n",
              "4  0.050699  0.021397  0.0  ...  0.000000  0.005211  0.000000       0.0   \n",
              "\n",
              "      youth  youthful  youths      zeal   zealous  zest  \n",
              "0  0.000000       0.0     0.0  0.000000  0.017148   0.0  \n",
              "1  0.011694       0.0     0.0  0.008533  0.007578   0.0  \n",
              "2  0.008259       0.0     0.0  0.000000  0.000000   0.0  \n",
              "3  0.000000       0.0     0.0  0.000000  0.000000   0.0  \n",
              "4  0.000000       0.0     0.0  0.000000  0.000000   0.0  \n",
              "\n",
              "[5 rows x 8035 columns]"
            ],
            "text/html": [
              "\n",
              "  <div id=\"df-1285cda0-78ab-4747-befe-7cdc872fd7ad\">\n",
              "    <div class=\"colab-df-container\">\n",
              "      <div>\n",
              "<style scoped>\n",
              "    .dataframe tbody tr th:only-of-type {\n",
              "        vertical-align: middle;\n",
              "    }\n",
              "\n",
              "    .dataframe tbody tr th {\n",
              "        vertical-align: top;\n",
              "    }\n",
              "\n",
              "    .dataframe thead th {\n",
              "        text-align: right;\n",
              "    }\n",
              "</style>\n",
              "<table border=\"1\" class=\"dataframe\">\n",
              "  <thead>\n",
              "    <tr style=\"text-align: right;\">\n",
              "      <th></th>\n",
              "      <th>000</th>\n",
              "      <th>10</th>\n",
              "      <th>100</th>\n",
              "      <th>11</th>\n",
              "      <th>12</th>\n",
              "      <th>13</th>\n",
              "      <th>14</th>\n",
              "      <th>15</th>\n",
              "      <th>16</th>\n",
              "      <th>17</th>\n",
              "      <th>...</th>\n",
              "      <th>york</th>\n",
              "      <th>young</th>\n",
              "      <th>younger</th>\n",
              "      <th>youngest</th>\n",
              "      <th>youth</th>\n",
              "      <th>youthful</th>\n",
              "      <th>youths</th>\n",
              "      <th>zeal</th>\n",
              "      <th>zealous</th>\n",
              "      <th>zest</th>\n",
              "    </tr>\n",
              "  </thead>\n",
              "  <tbody>\n",
              "    <tr>\n",
              "      <th>0</th>\n",
              "      <td>0.000000</td>\n",
              "      <td>0.035237</td>\n",
              "      <td>0.000000</td>\n",
              "      <td>0.013180</td>\n",
              "      <td>0.025226</td>\n",
              "      <td>0.000000</td>\n",
              "      <td>0.000000</td>\n",
              "      <td>0.012987</td>\n",
              "      <td>0.000000</td>\n",
              "      <td>0.0</td>\n",
              "      <td>...</td>\n",
              "      <td>0.000000</td>\n",
              "      <td>0.000000</td>\n",
              "      <td>0.000000</td>\n",
              "      <td>0.0</td>\n",
              "      <td>0.000000</td>\n",
              "      <td>0.0</td>\n",
              "      <td>0.0</td>\n",
              "      <td>0.000000</td>\n",
              "      <td>0.017148</td>\n",
              "      <td>0.0</td>\n",
              "    </tr>\n",
              "    <tr>\n",
              "      <th>1</th>\n",
              "      <td>0.000000</td>\n",
              "      <td>0.005191</td>\n",
              "      <td>0.000000</td>\n",
              "      <td>0.000000</td>\n",
              "      <td>0.000000</td>\n",
              "      <td>0.000000</td>\n",
              "      <td>0.000000</td>\n",
              "      <td>0.002870</td>\n",
              "      <td>0.009083</td>\n",
              "      <td>0.0</td>\n",
              "      <td>...</td>\n",
              "      <td>0.002292</td>\n",
              "      <td>0.011798</td>\n",
              "      <td>0.004443</td>\n",
              "      <td>0.0</td>\n",
              "      <td>0.011694</td>\n",
              "      <td>0.0</td>\n",
              "      <td>0.0</td>\n",
              "      <td>0.008533</td>\n",
              "      <td>0.007578</td>\n",
              "      <td>0.0</td>\n",
              "    </tr>\n",
              "    <tr>\n",
              "      <th>2</th>\n",
              "      <td>0.000000</td>\n",
              "      <td>0.000000</td>\n",
              "      <td>0.000000</td>\n",
              "      <td>0.000000</td>\n",
              "      <td>0.000000</td>\n",
              "      <td>0.019268</td>\n",
              "      <td>0.006379</td>\n",
              "      <td>0.006080</td>\n",
              "      <td>0.006415</td>\n",
              "      <td>0.0</td>\n",
              "      <td>...</td>\n",
              "      <td>0.000000</td>\n",
              "      <td>0.015622</td>\n",
              "      <td>0.000000</td>\n",
              "      <td>0.0</td>\n",
              "      <td>0.008259</td>\n",
              "      <td>0.0</td>\n",
              "      <td>0.0</td>\n",
              "      <td>0.000000</td>\n",
              "      <td>0.000000</td>\n",
              "      <td>0.0</td>\n",
              "    </tr>\n",
              "    <tr>\n",
              "      <th>3</th>\n",
              "      <td>0.000000</td>\n",
              "      <td>0.000000</td>\n",
              "      <td>0.000000</td>\n",
              "      <td>0.000000</td>\n",
              "      <td>0.000000</td>\n",
              "      <td>0.000000</td>\n",
              "      <td>0.000000</td>\n",
              "      <td>0.000000</td>\n",
              "      <td>0.000000</td>\n",
              "      <td>0.0</td>\n",
              "      <td>...</td>\n",
              "      <td>0.000000</td>\n",
              "      <td>0.064829</td>\n",
              "      <td>0.000000</td>\n",
              "      <td>0.0</td>\n",
              "      <td>0.000000</td>\n",
              "      <td>0.0</td>\n",
              "      <td>0.0</td>\n",
              "      <td>0.000000</td>\n",
              "      <td>0.000000</td>\n",
              "      <td>0.0</td>\n",
              "    </tr>\n",
              "    <tr>\n",
              "      <th>4</th>\n",
              "      <td>0.402147</td>\n",
              "      <td>0.082535</td>\n",
              "      <td>0.035444</td>\n",
              "      <td>0.061741</td>\n",
              "      <td>0.049239</td>\n",
              "      <td>0.010712</td>\n",
              "      <td>0.021277</td>\n",
              "      <td>0.050699</td>\n",
              "      <td>0.021397</td>\n",
              "      <td>0.0</td>\n",
              "      <td>...</td>\n",
              "      <td>0.000000</td>\n",
              "      <td>0.005211</td>\n",
              "      <td>0.000000</td>\n",
              "      <td>0.0</td>\n",
              "      <td>0.000000</td>\n",
              "      <td>0.0</td>\n",
              "      <td>0.0</td>\n",
              "      <td>0.000000</td>\n",
              "      <td>0.000000</td>\n",
              "      <td>0.0</td>\n",
              "    </tr>\n",
              "  </tbody>\n",
              "</table>\n",
              "<p>5 rows × 8035 columns</p>\n",
              "</div>\n",
              "      <button class=\"colab-df-convert\" onclick=\"convertToInteractive('df-1285cda0-78ab-4747-befe-7cdc872fd7ad')\"\n",
              "              title=\"Convert this dataframe to an interactive table.\"\n",
              "              style=\"display:none;\">\n",
              "        \n",
              "  <svg xmlns=\"http://www.w3.org/2000/svg\" height=\"24px\"viewBox=\"0 0 24 24\"\n",
              "       width=\"24px\">\n",
              "    <path d=\"M0 0h24v24H0V0z\" fill=\"none\"/>\n",
              "    <path d=\"M18.56 5.44l.94 2.06.94-2.06 2.06-.94-2.06-.94-.94-2.06-.94 2.06-2.06.94zm-11 1L8.5 8.5l.94-2.06 2.06-.94-2.06-.94L8.5 2.5l-.94 2.06-2.06.94zm10 10l.94 2.06.94-2.06 2.06-.94-2.06-.94-.94-2.06-.94 2.06-2.06.94z\"/><path d=\"M17.41 7.96l-1.37-1.37c-.4-.4-.92-.59-1.43-.59-.52 0-1.04.2-1.43.59L10.3 9.45l-7.72 7.72c-.78.78-.78 2.05 0 2.83L4 21.41c.39.39.9.59 1.41.59.51 0 1.02-.2 1.41-.59l7.78-7.78 2.81-2.81c.8-.78.8-2.07 0-2.86zM5.41 20L4 18.59l7.72-7.72 1.47 1.35L5.41 20z\"/>\n",
              "  </svg>\n",
              "      </button>\n",
              "      \n",
              "  <style>\n",
              "    .colab-df-container {\n",
              "      display:flex;\n",
              "      flex-wrap:wrap;\n",
              "      gap: 12px;\n",
              "    }\n",
              "\n",
              "    .colab-df-convert {\n",
              "      background-color: #E8F0FE;\n",
              "      border: none;\n",
              "      border-radius: 50%;\n",
              "      cursor: pointer;\n",
              "      display: none;\n",
              "      fill: #1967D2;\n",
              "      height: 32px;\n",
              "      padding: 0 0 0 0;\n",
              "      width: 32px;\n",
              "    }\n",
              "\n",
              "    .colab-df-convert:hover {\n",
              "      background-color: #E2EBFA;\n",
              "      box-shadow: 0px 1px 2px rgba(60, 64, 67, 0.3), 0px 1px 3px 1px rgba(60, 64, 67, 0.15);\n",
              "      fill: #174EA6;\n",
              "    }\n",
              "\n",
              "    [theme=dark] .colab-df-convert {\n",
              "      background-color: #3B4455;\n",
              "      fill: #D2E3FC;\n",
              "    }\n",
              "\n",
              "    [theme=dark] .colab-df-convert:hover {\n",
              "      background-color: #434B5C;\n",
              "      box-shadow: 0px 1px 3px 1px rgba(0, 0, 0, 0.15);\n",
              "      filter: drop-shadow(0px 1px 2px rgba(0, 0, 0, 0.3));\n",
              "      fill: #FFFFFF;\n",
              "    }\n",
              "  </style>\n",
              "\n",
              "      <script>\n",
              "        const buttonEl =\n",
              "          document.querySelector('#df-1285cda0-78ab-4747-befe-7cdc872fd7ad button.colab-df-convert');\n",
              "        buttonEl.style.display =\n",
              "          google.colab.kernel.accessAllowed ? 'block' : 'none';\n",
              "\n",
              "        async function convertToInteractive(key) {\n",
              "          const element = document.querySelector('#df-1285cda0-78ab-4747-befe-7cdc872fd7ad');\n",
              "          const dataTable =\n",
              "            await google.colab.kernel.invokeFunction('convertToInteractive',\n",
              "                                                     [key], {});\n",
              "          if (!dataTable) return;\n",
              "\n",
              "          const docLinkHtml = 'Like what you see? Visit the ' +\n",
              "            '<a target=\"_blank\" href=https://colab.research.google.com/notebooks/data_table.ipynb>data table notebook</a>'\n",
              "            + ' to learn more about interactive tables.';\n",
              "          element.innerHTML = '';\n",
              "          dataTable['output_type'] = 'display_data';\n",
              "          await google.colab.output.renderOutput(dataTable, element);\n",
              "          const docLink = document.createElement('div');\n",
              "          docLink.innerHTML = docLinkHtml;\n",
              "          element.appendChild(docLink);\n",
              "        }\n",
              "      </script>\n",
              "    </div>\n",
              "  </div>\n",
              "  "
            ]
          },
          "metadata": {},
          "execution_count": 17
        }
      ],
      "source": [
        "doc_term_matrix.head(5)"
      ]
    },
    {
      "cell_type": "code",
      "execution_count": null,
      "metadata": {
        "id": "5BC7Ta65XrbL",
        "colab": {
          "base_uri": "https://localhost:8080/",
          "height": 782
        },
        "outputId": "be83e717-2ca3-4ae9-919a-9db9b28e7588"
      },
      "outputs": [
        {
          "output_type": "execute_result",
          "data": {
            "text/plain": [
              "      index                      filename  \\\n",
              "0         0  suspicious-document00001.txt   \n",
              "1         1  suspicious-document00002.txt   \n",
              "2         2  suspicious-document00003.txt   \n",
              "3         3  suspicious-document00004.txt   \n",
              "4         4  suspicious-document00005.txt   \n",
              "...     ...                           ...   \n",
              "4747   4747  suspicious-document04748.txt   \n",
              "4748   4748  suspicious-document04749.txt   \n",
              "4749   4749  suspicious-document04750.txt   \n",
              "4750   4750  suspicious-document04751.txt   \n",
              "4751   4751  suspicious-document04752.txt   \n",
              "\n",
              "                                                   text       000        10  \\\n",
              "0     The convening of this body gave rise to much d...  0.000000  0.035237   \n",
              "1     WOMAN\\n\\nMAN'S EQUAL.\\n\\nBY\\n\\nRev. THOS. WEBS...  0.000000  0.005191   \n",
              "2     I do not remember that I was \"very angry\" abou...  0.000000  0.000000   \n",
              "3     Tulaji  Angria  was dark, inclined to be fat, ...  0.000000  0.000000   \n",
              "4     Hiroshima was the primary target of the first ...  0.402147  0.082535   \n",
              "...                                                 ...       ...       ...   \n",
              "4747  STORIES THAT\\n\\n                            WO...  0.000000  0.000000   \n",
              "4748  The legendary history of the place, both tempo...  0.000000  0.006470   \n",
              "4749  The detective lunged toward her. \"Just what I ...  0.000000  0.018881   \n",
              "4750  Redactor's note: Italics are indicated by unde...  0.000000  0.003370   \n",
              "4751  Winchester:\\n                Printed by Warren...  0.000000  0.075927   \n",
              "\n",
              "           100        11        12        13        14  ...      york  \\\n",
              "0     0.000000  0.013180  0.025226  0.000000  0.000000  ...  0.000000   \n",
              "1     0.000000  0.000000  0.000000  0.000000  0.000000  ...  0.002292   \n",
              "2     0.000000  0.000000  0.000000  0.019268  0.006379  ...  0.000000   \n",
              "3     0.000000  0.000000  0.000000  0.000000  0.000000  ...  0.000000   \n",
              "4     0.035444  0.061741  0.049239  0.010712  0.021277  ...  0.000000   \n",
              "...        ...       ...       ...       ...       ...  ...       ...   \n",
              "4747  0.000000  0.000000  0.000000  0.000000  0.000000  ...  0.003154   \n",
              "4748  0.008335  0.000000  0.013895  0.007557  0.000000  ...  0.005714   \n",
              "4749  0.000000  0.000000  0.020275  0.000000  0.000000  ...  0.000000   \n",
              "4750  0.002895  0.003782  0.001206  0.000000  0.000000  ...  0.002977   \n",
              "4751  0.000000  0.028399  0.027178  0.059124  0.029360  ...  0.000000   \n",
              "\n",
              "         young   younger  youngest     youth  youthful    youths      zeal  \\\n",
              "0     0.000000  0.000000  0.000000  0.000000  0.000000  0.000000  0.000000   \n",
              "1     0.011798  0.004443  0.000000  0.011694  0.000000  0.000000  0.008533   \n",
              "2     0.015622  0.000000  0.000000  0.008259  0.000000  0.000000  0.000000   \n",
              "3     0.064829  0.000000  0.000000  0.000000  0.000000  0.000000  0.000000   \n",
              "4     0.005211  0.000000  0.000000  0.000000  0.000000  0.000000  0.000000   \n",
              "...        ...       ...       ...       ...       ...       ...       ...   \n",
              "4747  0.010823  0.000000  0.001387  0.000894  0.001315  0.000000  0.000000   \n",
              "4748  0.000000  0.000000  0.000000  0.000000  0.007148  0.000000  0.000000   \n",
              "4749  0.032185  0.000000  0.000000  0.000000  0.000000  0.000000  0.000000   \n",
              "4750  0.005107  0.002885  0.000000  0.006749  0.000000  0.003177  0.002462   \n",
              "4751  0.000000  0.000000  0.000000  0.000000  0.000000  0.000000  0.000000   \n",
              "\n",
              "       zealous  zest  \n",
              "0     0.017148   0.0  \n",
              "1     0.007578   0.0  \n",
              "2     0.000000   0.0  \n",
              "3     0.000000   0.0  \n",
              "4     0.000000   0.0  \n",
              "...        ...   ...  \n",
              "4747  0.000000   0.0  \n",
              "4748  0.000000   0.0  \n",
              "4749  0.000000   0.0  \n",
              "4750  0.000000   0.0  \n",
              "4751  0.000000   0.0  \n",
              "\n",
              "[4752 rows x 8038 columns]"
            ],
            "text/html": [
              "\n",
              "  <div id=\"df-471bb14f-643d-4cf5-9d18-94cbc924d010\">\n",
              "    <div class=\"colab-df-container\">\n",
              "      <div>\n",
              "<style scoped>\n",
              "    .dataframe tbody tr th:only-of-type {\n",
              "        vertical-align: middle;\n",
              "    }\n",
              "\n",
              "    .dataframe tbody tr th {\n",
              "        vertical-align: top;\n",
              "    }\n",
              "\n",
              "    .dataframe thead th {\n",
              "        text-align: right;\n",
              "    }\n",
              "</style>\n",
              "<table border=\"1\" class=\"dataframe\">\n",
              "  <thead>\n",
              "    <tr style=\"text-align: right;\">\n",
              "      <th></th>\n",
              "      <th>index</th>\n",
              "      <th>filename</th>\n",
              "      <th>text</th>\n",
              "      <th>000</th>\n",
              "      <th>10</th>\n",
              "      <th>100</th>\n",
              "      <th>11</th>\n",
              "      <th>12</th>\n",
              "      <th>13</th>\n",
              "      <th>14</th>\n",
              "      <th>...</th>\n",
              "      <th>york</th>\n",
              "      <th>young</th>\n",
              "      <th>younger</th>\n",
              "      <th>youngest</th>\n",
              "      <th>youth</th>\n",
              "      <th>youthful</th>\n",
              "      <th>youths</th>\n",
              "      <th>zeal</th>\n",
              "      <th>zealous</th>\n",
              "      <th>zest</th>\n",
              "    </tr>\n",
              "  </thead>\n",
              "  <tbody>\n",
              "    <tr>\n",
              "      <th>0</th>\n",
              "      <td>0</td>\n",
              "      <td>suspicious-document00001.txt</td>\n",
              "      <td>The convening of this body gave rise to much d...</td>\n",
              "      <td>0.000000</td>\n",
              "      <td>0.035237</td>\n",
              "      <td>0.000000</td>\n",
              "      <td>0.013180</td>\n",
              "      <td>0.025226</td>\n",
              "      <td>0.000000</td>\n",
              "      <td>0.000000</td>\n",
              "      <td>...</td>\n",
              "      <td>0.000000</td>\n",
              "      <td>0.000000</td>\n",
              "      <td>0.000000</td>\n",
              "      <td>0.000000</td>\n",
              "      <td>0.000000</td>\n",
              "      <td>0.000000</td>\n",
              "      <td>0.000000</td>\n",
              "      <td>0.000000</td>\n",
              "      <td>0.017148</td>\n",
              "      <td>0.0</td>\n",
              "    </tr>\n",
              "    <tr>\n",
              "      <th>1</th>\n",
              "      <td>1</td>\n",
              "      <td>suspicious-document00002.txt</td>\n",
              "      <td>WOMAN\\n\\nMAN'S EQUAL.\\n\\nBY\\n\\nRev. THOS. WEBS...</td>\n",
              "      <td>0.000000</td>\n",
              "      <td>0.005191</td>\n",
              "      <td>0.000000</td>\n",
              "      <td>0.000000</td>\n",
              "      <td>0.000000</td>\n",
              "      <td>0.000000</td>\n",
              "      <td>0.000000</td>\n",
              "      <td>...</td>\n",
              "      <td>0.002292</td>\n",
              "      <td>0.011798</td>\n",
              "      <td>0.004443</td>\n",
              "      <td>0.000000</td>\n",
              "      <td>0.011694</td>\n",
              "      <td>0.000000</td>\n",
              "      <td>0.000000</td>\n",
              "      <td>0.008533</td>\n",
              "      <td>0.007578</td>\n",
              "      <td>0.0</td>\n",
              "    </tr>\n",
              "    <tr>\n",
              "      <th>2</th>\n",
              "      <td>2</td>\n",
              "      <td>suspicious-document00003.txt</td>\n",
              "      <td>I do not remember that I was \"very angry\" abou...</td>\n",
              "      <td>0.000000</td>\n",
              "      <td>0.000000</td>\n",
              "      <td>0.000000</td>\n",
              "      <td>0.000000</td>\n",
              "      <td>0.000000</td>\n",
              "      <td>0.019268</td>\n",
              "      <td>0.006379</td>\n",
              "      <td>...</td>\n",
              "      <td>0.000000</td>\n",
              "      <td>0.015622</td>\n",
              "      <td>0.000000</td>\n",
              "      <td>0.000000</td>\n",
              "      <td>0.008259</td>\n",
              "      <td>0.000000</td>\n",
              "      <td>0.000000</td>\n",
              "      <td>0.000000</td>\n",
              "      <td>0.000000</td>\n",
              "      <td>0.0</td>\n",
              "    </tr>\n",
              "    <tr>\n",
              "      <th>3</th>\n",
              "      <td>3</td>\n",
              "      <td>suspicious-document00004.txt</td>\n",
              "      <td>Tulaji  Angria  was dark, inclined to be fat, ...</td>\n",
              "      <td>0.000000</td>\n",
              "      <td>0.000000</td>\n",
              "      <td>0.000000</td>\n",
              "      <td>0.000000</td>\n",
              "      <td>0.000000</td>\n",
              "      <td>0.000000</td>\n",
              "      <td>0.000000</td>\n",
              "      <td>...</td>\n",
              "      <td>0.000000</td>\n",
              "      <td>0.064829</td>\n",
              "      <td>0.000000</td>\n",
              "      <td>0.000000</td>\n",
              "      <td>0.000000</td>\n",
              "      <td>0.000000</td>\n",
              "      <td>0.000000</td>\n",
              "      <td>0.000000</td>\n",
              "      <td>0.000000</td>\n",
              "      <td>0.0</td>\n",
              "    </tr>\n",
              "    <tr>\n",
              "      <th>4</th>\n",
              "      <td>4</td>\n",
              "      <td>suspicious-document00005.txt</td>\n",
              "      <td>Hiroshima was the primary target of the first ...</td>\n",
              "      <td>0.402147</td>\n",
              "      <td>0.082535</td>\n",
              "      <td>0.035444</td>\n",
              "      <td>0.061741</td>\n",
              "      <td>0.049239</td>\n",
              "      <td>0.010712</td>\n",
              "      <td>0.021277</td>\n",
              "      <td>...</td>\n",
              "      <td>0.000000</td>\n",
              "      <td>0.005211</td>\n",
              "      <td>0.000000</td>\n",
              "      <td>0.000000</td>\n",
              "      <td>0.000000</td>\n",
              "      <td>0.000000</td>\n",
              "      <td>0.000000</td>\n",
              "      <td>0.000000</td>\n",
              "      <td>0.000000</td>\n",
              "      <td>0.0</td>\n",
              "    </tr>\n",
              "    <tr>\n",
              "      <th>...</th>\n",
              "      <td>...</td>\n",
              "      <td>...</td>\n",
              "      <td>...</td>\n",
              "      <td>...</td>\n",
              "      <td>...</td>\n",
              "      <td>...</td>\n",
              "      <td>...</td>\n",
              "      <td>...</td>\n",
              "      <td>...</td>\n",
              "      <td>...</td>\n",
              "      <td>...</td>\n",
              "      <td>...</td>\n",
              "      <td>...</td>\n",
              "      <td>...</td>\n",
              "      <td>...</td>\n",
              "      <td>...</td>\n",
              "      <td>...</td>\n",
              "      <td>...</td>\n",
              "      <td>...</td>\n",
              "      <td>...</td>\n",
              "      <td>...</td>\n",
              "    </tr>\n",
              "    <tr>\n",
              "      <th>4747</th>\n",
              "      <td>4747</td>\n",
              "      <td>suspicious-document04748.txt</td>\n",
              "      <td>STORIES THAT\\n\\n                            WO...</td>\n",
              "      <td>0.000000</td>\n",
              "      <td>0.000000</td>\n",
              "      <td>0.000000</td>\n",
              "      <td>0.000000</td>\n",
              "      <td>0.000000</td>\n",
              "      <td>0.000000</td>\n",
              "      <td>0.000000</td>\n",
              "      <td>...</td>\n",
              "      <td>0.003154</td>\n",
              "      <td>0.010823</td>\n",
              "      <td>0.000000</td>\n",
              "      <td>0.001387</td>\n",
              "      <td>0.000894</td>\n",
              "      <td>0.001315</td>\n",
              "      <td>0.000000</td>\n",
              "      <td>0.000000</td>\n",
              "      <td>0.000000</td>\n",
              "      <td>0.0</td>\n",
              "    </tr>\n",
              "    <tr>\n",
              "      <th>4748</th>\n",
              "      <td>4748</td>\n",
              "      <td>suspicious-document04749.txt</td>\n",
              "      <td>The legendary history of the place, both tempo...</td>\n",
              "      <td>0.000000</td>\n",
              "      <td>0.006470</td>\n",
              "      <td>0.008335</td>\n",
              "      <td>0.000000</td>\n",
              "      <td>0.013895</td>\n",
              "      <td>0.007557</td>\n",
              "      <td>0.000000</td>\n",
              "      <td>...</td>\n",
              "      <td>0.005714</td>\n",
              "      <td>0.000000</td>\n",
              "      <td>0.000000</td>\n",
              "      <td>0.000000</td>\n",
              "      <td>0.000000</td>\n",
              "      <td>0.007148</td>\n",
              "      <td>0.000000</td>\n",
              "      <td>0.000000</td>\n",
              "      <td>0.000000</td>\n",
              "      <td>0.0</td>\n",
              "    </tr>\n",
              "    <tr>\n",
              "      <th>4749</th>\n",
              "      <td>4749</td>\n",
              "      <td>suspicious-document04750.txt</td>\n",
              "      <td>The detective lunged toward her. \"Just what I ...</td>\n",
              "      <td>0.000000</td>\n",
              "      <td>0.018881</td>\n",
              "      <td>0.000000</td>\n",
              "      <td>0.000000</td>\n",
              "      <td>0.020275</td>\n",
              "      <td>0.000000</td>\n",
              "      <td>0.000000</td>\n",
              "      <td>...</td>\n",
              "      <td>0.000000</td>\n",
              "      <td>0.032185</td>\n",
              "      <td>0.000000</td>\n",
              "      <td>0.000000</td>\n",
              "      <td>0.000000</td>\n",
              "      <td>0.000000</td>\n",
              "      <td>0.000000</td>\n",
              "      <td>0.000000</td>\n",
              "      <td>0.000000</td>\n",
              "      <td>0.0</td>\n",
              "    </tr>\n",
              "    <tr>\n",
              "      <th>4750</th>\n",
              "      <td>4750</td>\n",
              "      <td>suspicious-document04751.txt</td>\n",
              "      <td>Redactor's note: Italics are indicated by unde...</td>\n",
              "      <td>0.000000</td>\n",
              "      <td>0.003370</td>\n",
              "      <td>0.002895</td>\n",
              "      <td>0.003782</td>\n",
              "      <td>0.001206</td>\n",
              "      <td>0.000000</td>\n",
              "      <td>0.000000</td>\n",
              "      <td>...</td>\n",
              "      <td>0.002977</td>\n",
              "      <td>0.005107</td>\n",
              "      <td>0.002885</td>\n",
              "      <td>0.000000</td>\n",
              "      <td>0.006749</td>\n",
              "      <td>0.000000</td>\n",
              "      <td>0.003177</td>\n",
              "      <td>0.002462</td>\n",
              "      <td>0.000000</td>\n",
              "      <td>0.0</td>\n",
              "    </tr>\n",
              "    <tr>\n",
              "      <th>4751</th>\n",
              "      <td>4751</td>\n",
              "      <td>suspicious-document04752.txt</td>\n",
              "      <td>Winchester:\\n                Printed by Warren...</td>\n",
              "      <td>0.000000</td>\n",
              "      <td>0.075927</td>\n",
              "      <td>0.000000</td>\n",
              "      <td>0.028399</td>\n",
              "      <td>0.027178</td>\n",
              "      <td>0.059124</td>\n",
              "      <td>0.029360</td>\n",
              "      <td>...</td>\n",
              "      <td>0.000000</td>\n",
              "      <td>0.000000</td>\n",
              "      <td>0.000000</td>\n",
              "      <td>0.000000</td>\n",
              "      <td>0.000000</td>\n",
              "      <td>0.000000</td>\n",
              "      <td>0.000000</td>\n",
              "      <td>0.000000</td>\n",
              "      <td>0.000000</td>\n",
              "      <td>0.0</td>\n",
              "    </tr>\n",
              "  </tbody>\n",
              "</table>\n",
              "<p>4752 rows × 8038 columns</p>\n",
              "</div>\n",
              "      <button class=\"colab-df-convert\" onclick=\"convertToInteractive('df-471bb14f-643d-4cf5-9d18-94cbc924d010')\"\n",
              "              title=\"Convert this dataframe to an interactive table.\"\n",
              "              style=\"display:none;\">\n",
              "        \n",
              "  <svg xmlns=\"http://www.w3.org/2000/svg\" height=\"24px\"viewBox=\"0 0 24 24\"\n",
              "       width=\"24px\">\n",
              "    <path d=\"M0 0h24v24H0V0z\" fill=\"none\"/>\n",
              "    <path d=\"M18.56 5.44l.94 2.06.94-2.06 2.06-.94-2.06-.94-.94-2.06-.94 2.06-2.06.94zm-11 1L8.5 8.5l.94-2.06 2.06-.94-2.06-.94L8.5 2.5l-.94 2.06-2.06.94zm10 10l.94 2.06.94-2.06 2.06-.94-2.06-.94-.94-2.06-.94 2.06-2.06.94z\"/><path d=\"M17.41 7.96l-1.37-1.37c-.4-.4-.92-.59-1.43-.59-.52 0-1.04.2-1.43.59L10.3 9.45l-7.72 7.72c-.78.78-.78 2.05 0 2.83L4 21.41c.39.39.9.59 1.41.59.51 0 1.02-.2 1.41-.59l7.78-7.78 2.81-2.81c.8-.78.8-2.07 0-2.86zM5.41 20L4 18.59l7.72-7.72 1.47 1.35L5.41 20z\"/>\n",
              "  </svg>\n",
              "      </button>\n",
              "      \n",
              "  <style>\n",
              "    .colab-df-container {\n",
              "      display:flex;\n",
              "      flex-wrap:wrap;\n",
              "      gap: 12px;\n",
              "    }\n",
              "\n",
              "    .colab-df-convert {\n",
              "      background-color: #E8F0FE;\n",
              "      border: none;\n",
              "      border-radius: 50%;\n",
              "      cursor: pointer;\n",
              "      display: none;\n",
              "      fill: #1967D2;\n",
              "      height: 32px;\n",
              "      padding: 0 0 0 0;\n",
              "      width: 32px;\n",
              "    }\n",
              "\n",
              "    .colab-df-convert:hover {\n",
              "      background-color: #E2EBFA;\n",
              "      box-shadow: 0px 1px 2px rgba(60, 64, 67, 0.3), 0px 1px 3px 1px rgba(60, 64, 67, 0.15);\n",
              "      fill: #174EA6;\n",
              "    }\n",
              "\n",
              "    [theme=dark] .colab-df-convert {\n",
              "      background-color: #3B4455;\n",
              "      fill: #D2E3FC;\n",
              "    }\n",
              "\n",
              "    [theme=dark] .colab-df-convert:hover {\n",
              "      background-color: #434B5C;\n",
              "      box-shadow: 0px 1px 3px 1px rgba(0, 0, 0, 0.15);\n",
              "      filter: drop-shadow(0px 1px 2px rgba(0, 0, 0, 0.3));\n",
              "      fill: #FFFFFF;\n",
              "    }\n",
              "  </style>\n",
              "\n",
              "      <script>\n",
              "        const buttonEl =\n",
              "          document.querySelector('#df-471bb14f-643d-4cf5-9d18-94cbc924d010 button.colab-df-convert');\n",
              "        buttonEl.style.display =\n",
              "          google.colab.kernel.accessAllowed ? 'block' : 'none';\n",
              "\n",
              "        async function convertToInteractive(key) {\n",
              "          const element = document.querySelector('#df-471bb14f-643d-4cf5-9d18-94cbc924d010');\n",
              "          const dataTable =\n",
              "            await google.colab.kernel.invokeFunction('convertToInteractive',\n",
              "                                                     [key], {});\n",
              "          if (!dataTable) return;\n",
              "\n",
              "          const docLinkHtml = 'Like what you see? Visit the ' +\n",
              "            '<a target=\"_blank\" href=https://colab.research.google.com/notebooks/data_table.ipynb>data table notebook</a>'\n",
              "            + ' to learn more about interactive tables.';\n",
              "          element.innerHTML = '';\n",
              "          dataTable['output_type'] = 'display_data';\n",
              "          await google.colab.output.renderOutput(dataTable, element);\n",
              "          const docLink = document.createElement('div');\n",
              "          docLink.innerHTML = docLinkHtml;\n",
              "          element.appendChild(docLink);\n",
              "        }\n",
              "      </script>\n",
              "    </div>\n",
              "  </div>\n",
              "  "
            ]
          },
          "metadata": {},
          "execution_count": 18
        }
      ],
      "source": [
        "df_res=pd.concat([corpus,doc_term_matrix],axis=1)\n",
        "df_res"
      ]
    },
    {
      "cell_type": "code",
      "execution_count": null,
      "metadata": {
        "id": "gqL9mBwWYJuK"
      },
      "outputs": [],
      "source": [
        "df_res.to_csv('/content/drive/My Drive/intrinsic_with_tfidf.csv', index=False)"
      ]
    },
    {
      "cell_type": "markdown",
      "source": [
        "## Transformamos los dataframes de pandas a base de datos SQL\n"
      ],
      "metadata": {
        "id": "TvC2IQcBVKg_"
      }
    },
    {
      "cell_type": "code",
      "execution_count": null,
      "metadata": {
        "id": "3lEvSRe0VVzd"
      },
      "outputs": [],
      "source": [
        "path=\"/content/drive/MyDrive/intrinsic_with_tfidf.csv\""
      ]
    },
    {
      "cell_type": "code",
      "execution_count": null,
      "metadata": {
        "id": "2XHCxL-HVVzf"
      },
      "outputs": [],
      "source": [
        "intrinsic_with_tfidf=pd.read_csv(path)"
      ]
    },
    {
      "cell_type": "code",
      "source": [
        "intrinsic_with_tfidf.iloc[:,0:3]"
      ],
      "metadata": {
        "colab": {
          "base_uri": "https://localhost:8080/",
          "height": 424
        },
        "id": "W2NGdnJyYFgC",
        "outputId": "d6431921-9246-4e2c-8316-61c9e9ad458e"
      },
      "execution_count": null,
      "outputs": [
        {
          "output_type": "execute_result",
          "data": {
            "text/plain": [
              "      index                      filename  \\\n",
              "0         0  suspicious-document00001.txt   \n",
              "1         1  suspicious-document00002.txt   \n",
              "2         2  suspicious-document00003.txt   \n",
              "3         3  suspicious-document00004.txt   \n",
              "4         4  suspicious-document00005.txt   \n",
              "...     ...                           ...   \n",
              "4747   4747  suspicious-document04748.txt   \n",
              "4748   4748  suspicious-document04749.txt   \n",
              "4749   4749  suspicious-document04750.txt   \n",
              "4750   4750  suspicious-document04751.txt   \n",
              "4751   4751  suspicious-document04752.txt   \n",
              "\n",
              "                                                   text  \n",
              "0     The convening of this body gave rise to much d...  \n",
              "1     WOMAN\\n\\nMAN'S EQUAL.\\n\\nBY\\n\\nRev. THOS. WEBS...  \n",
              "2     I do not remember that I was \"very angry\" abou...  \n",
              "3     Tulaji  Angria  was dark, inclined to be fat, ...  \n",
              "4     Hiroshima was the primary target of the first ...  \n",
              "...                                                 ...  \n",
              "4747  STORIES THAT\\n\\n                            WO...  \n",
              "4748  The legendary history of the place, both tempo...  \n",
              "4749  The detective lunged toward her. \"Just what I ...  \n",
              "4750  Redactor's note: Italics are indicated by unde...  \n",
              "4751  Winchester:\\n                Printed by Warren...  \n",
              "\n",
              "[4752 rows x 3 columns]"
            ],
            "text/html": [
              "\n",
              "\n",
              "  <div id=\"df-3f07fc87-fb5d-41cd-a652-05fc099d2c13\">\n",
              "    <div class=\"colab-df-container\">\n",
              "      <div>\n",
              "<style scoped>\n",
              "    .dataframe tbody tr th:only-of-type {\n",
              "        vertical-align: middle;\n",
              "    }\n",
              "\n",
              "    .dataframe tbody tr th {\n",
              "        vertical-align: top;\n",
              "    }\n",
              "\n",
              "    .dataframe thead th {\n",
              "        text-align: right;\n",
              "    }\n",
              "</style>\n",
              "<table border=\"1\" class=\"dataframe\">\n",
              "  <thead>\n",
              "    <tr style=\"text-align: right;\">\n",
              "      <th></th>\n",
              "      <th>index</th>\n",
              "      <th>filename</th>\n",
              "      <th>text</th>\n",
              "    </tr>\n",
              "  </thead>\n",
              "  <tbody>\n",
              "    <tr>\n",
              "      <th>0</th>\n",
              "      <td>0</td>\n",
              "      <td>suspicious-document00001.txt</td>\n",
              "      <td>The convening of this body gave rise to much d...</td>\n",
              "    </tr>\n",
              "    <tr>\n",
              "      <th>1</th>\n",
              "      <td>1</td>\n",
              "      <td>suspicious-document00002.txt</td>\n",
              "      <td>WOMAN\\n\\nMAN'S EQUAL.\\n\\nBY\\n\\nRev. THOS. WEBS...</td>\n",
              "    </tr>\n",
              "    <tr>\n",
              "      <th>2</th>\n",
              "      <td>2</td>\n",
              "      <td>suspicious-document00003.txt</td>\n",
              "      <td>I do not remember that I was \"very angry\" abou...</td>\n",
              "    </tr>\n",
              "    <tr>\n",
              "      <th>3</th>\n",
              "      <td>3</td>\n",
              "      <td>suspicious-document00004.txt</td>\n",
              "      <td>Tulaji  Angria  was dark, inclined to be fat, ...</td>\n",
              "    </tr>\n",
              "    <tr>\n",
              "      <th>4</th>\n",
              "      <td>4</td>\n",
              "      <td>suspicious-document00005.txt</td>\n",
              "      <td>Hiroshima was the primary target of the first ...</td>\n",
              "    </tr>\n",
              "    <tr>\n",
              "      <th>...</th>\n",
              "      <td>...</td>\n",
              "      <td>...</td>\n",
              "      <td>...</td>\n",
              "    </tr>\n",
              "    <tr>\n",
              "      <th>4747</th>\n",
              "      <td>4747</td>\n",
              "      <td>suspicious-document04748.txt</td>\n",
              "      <td>STORIES THAT\\n\\n                            WO...</td>\n",
              "    </tr>\n",
              "    <tr>\n",
              "      <th>4748</th>\n",
              "      <td>4748</td>\n",
              "      <td>suspicious-document04749.txt</td>\n",
              "      <td>The legendary history of the place, both tempo...</td>\n",
              "    </tr>\n",
              "    <tr>\n",
              "      <th>4749</th>\n",
              "      <td>4749</td>\n",
              "      <td>suspicious-document04750.txt</td>\n",
              "      <td>The detective lunged toward her. \"Just what I ...</td>\n",
              "    </tr>\n",
              "    <tr>\n",
              "      <th>4750</th>\n",
              "      <td>4750</td>\n",
              "      <td>suspicious-document04751.txt</td>\n",
              "      <td>Redactor's note: Italics are indicated by unde...</td>\n",
              "    </tr>\n",
              "    <tr>\n",
              "      <th>4751</th>\n",
              "      <td>4751</td>\n",
              "      <td>suspicious-document04752.txt</td>\n",
              "      <td>Winchester:\\n                Printed by Warren...</td>\n",
              "    </tr>\n",
              "  </tbody>\n",
              "</table>\n",
              "<p>4752 rows × 3 columns</p>\n",
              "</div>\n",
              "      <button class=\"colab-df-convert\" onclick=\"convertToInteractive('df-3f07fc87-fb5d-41cd-a652-05fc099d2c13')\"\n",
              "              title=\"Convert this dataframe to an interactive table.\"\n",
              "              style=\"display:none;\">\n",
              "\n",
              "  <svg xmlns=\"http://www.w3.org/2000/svg\" height=\"24px\"viewBox=\"0 0 24 24\"\n",
              "       width=\"24px\">\n",
              "    <path d=\"M0 0h24v24H0V0z\" fill=\"none\"/>\n",
              "    <path d=\"M18.56 5.44l.94 2.06.94-2.06 2.06-.94-2.06-.94-.94-2.06-.94 2.06-2.06.94zm-11 1L8.5 8.5l.94-2.06 2.06-.94-2.06-.94L8.5 2.5l-.94 2.06-2.06.94zm10 10l.94 2.06.94-2.06 2.06-.94-2.06-.94-.94-2.06-.94 2.06-2.06.94z\"/><path d=\"M17.41 7.96l-1.37-1.37c-.4-.4-.92-.59-1.43-.59-.52 0-1.04.2-1.43.59L10.3 9.45l-7.72 7.72c-.78.78-.78 2.05 0 2.83L4 21.41c.39.39.9.59 1.41.59.51 0 1.02-.2 1.41-.59l7.78-7.78 2.81-2.81c.8-.78.8-2.07 0-2.86zM5.41 20L4 18.59l7.72-7.72 1.47 1.35L5.41 20z\"/>\n",
              "  </svg>\n",
              "      </button>\n",
              "\n",
              "\n",
              "\n",
              "    <div id=\"df-894e284a-2b91-4a84-b70f-29b6bd028ab3\">\n",
              "      <button class=\"colab-df-quickchart\" onclick=\"quickchart('df-894e284a-2b91-4a84-b70f-29b6bd028ab3')\"\n",
              "              title=\"Suggest charts.\"\n",
              "              style=\"display:none;\">\n",
              "\n",
              "<svg xmlns=\"http://www.w3.org/2000/svg\" height=\"24px\"viewBox=\"0 0 24 24\"\n",
              "     width=\"24px\">\n",
              "    <g>\n",
              "        <path d=\"M19 3H5c-1.1 0-2 .9-2 2v14c0 1.1.9 2 2 2h14c1.1 0 2-.9 2-2V5c0-1.1-.9-2-2-2zM9 17H7v-7h2v7zm4 0h-2V7h2v10zm4 0h-2v-4h2v4z\"/>\n",
              "    </g>\n",
              "</svg>\n",
              "      </button>\n",
              "    </div>\n",
              "\n",
              "<style>\n",
              "  .colab-df-quickchart {\n",
              "    background-color: #E8F0FE;\n",
              "    border: none;\n",
              "    border-radius: 50%;\n",
              "    cursor: pointer;\n",
              "    display: none;\n",
              "    fill: #1967D2;\n",
              "    height: 32px;\n",
              "    padding: 0 0 0 0;\n",
              "    width: 32px;\n",
              "  }\n",
              "\n",
              "  .colab-df-quickchart:hover {\n",
              "    background-color: #E2EBFA;\n",
              "    box-shadow: 0px 1px 2px rgba(60, 64, 67, 0.3), 0px 1px 3px 1px rgba(60, 64, 67, 0.15);\n",
              "    fill: #174EA6;\n",
              "  }\n",
              "\n",
              "  [theme=dark] .colab-df-quickchart {\n",
              "    background-color: #3B4455;\n",
              "    fill: #D2E3FC;\n",
              "  }\n",
              "\n",
              "  [theme=dark] .colab-df-quickchart:hover {\n",
              "    background-color: #434B5C;\n",
              "    box-shadow: 0px 1px 3px 1px rgba(0, 0, 0, 0.15);\n",
              "    filter: drop-shadow(0px 1px 2px rgba(0, 0, 0, 0.3));\n",
              "    fill: #FFFFFF;\n",
              "  }\n",
              "</style>\n",
              "\n",
              "    <script>\n",
              "      async function quickchart(key) {\n",
              "        const containerElement = document.querySelector('#' + key);\n",
              "        const charts = await google.colab.kernel.invokeFunction(\n",
              "            'suggestCharts', [key], {});\n",
              "      }\n",
              "    </script>\n",
              "\n",
              "      <script>\n",
              "\n",
              "function displayQuickchartButton(domScope) {\n",
              "  let quickchartButtonEl =\n",
              "    domScope.querySelector('#df-894e284a-2b91-4a84-b70f-29b6bd028ab3 button.colab-df-quickchart');\n",
              "  quickchartButtonEl.style.display =\n",
              "    google.colab.kernel.accessAllowed ? 'block' : 'none';\n",
              "}\n",
              "\n",
              "        displayQuickchartButton(document);\n",
              "      </script>\n",
              "      <style>\n",
              "    .colab-df-container {\n",
              "      display:flex;\n",
              "      flex-wrap:wrap;\n",
              "      gap: 12px;\n",
              "    }\n",
              "\n",
              "    .colab-df-convert {\n",
              "      background-color: #E8F0FE;\n",
              "      border: none;\n",
              "      border-radius: 50%;\n",
              "      cursor: pointer;\n",
              "      display: none;\n",
              "      fill: #1967D2;\n",
              "      height: 32px;\n",
              "      padding: 0 0 0 0;\n",
              "      width: 32px;\n",
              "    }\n",
              "\n",
              "    .colab-df-convert:hover {\n",
              "      background-color: #E2EBFA;\n",
              "      box-shadow: 0px 1px 2px rgba(60, 64, 67, 0.3), 0px 1px 3px 1px rgba(60, 64, 67, 0.15);\n",
              "      fill: #174EA6;\n",
              "    }\n",
              "\n",
              "    [theme=dark] .colab-df-convert {\n",
              "      background-color: #3B4455;\n",
              "      fill: #D2E3FC;\n",
              "    }\n",
              "\n",
              "    [theme=dark] .colab-df-convert:hover {\n",
              "      background-color: #434B5C;\n",
              "      box-shadow: 0px 1px 3px 1px rgba(0, 0, 0, 0.15);\n",
              "      filter: drop-shadow(0px 1px 2px rgba(0, 0, 0, 0.3));\n",
              "      fill: #FFFFFF;\n",
              "    }\n",
              "  </style>\n",
              "\n",
              "      <script>\n",
              "        const buttonEl =\n",
              "          document.querySelector('#df-3f07fc87-fb5d-41cd-a652-05fc099d2c13 button.colab-df-convert');\n",
              "        buttonEl.style.display =\n",
              "          google.colab.kernel.accessAllowed ? 'block' : 'none';\n",
              "\n",
              "        async function convertToInteractive(key) {\n",
              "          const element = document.querySelector('#df-3f07fc87-fb5d-41cd-a652-05fc099d2c13');\n",
              "          const dataTable =\n",
              "            await google.colab.kernel.invokeFunction('convertToInteractive',\n",
              "                                                     [key], {});\n",
              "          if (!dataTable) return;\n",
              "\n",
              "          const docLinkHtml = 'Like what you see? Visit the ' +\n",
              "            '<a target=\"_blank\" href=https://colab.research.google.com/notebooks/data_table.ipynb>data table notebook</a>'\n",
              "            + ' to learn more about interactive tables.';\n",
              "          element.innerHTML = '';\n",
              "          dataTable['output_type'] = 'display_data';\n",
              "          await google.colab.output.renderOutput(dataTable, element);\n",
              "          const docLink = document.createElement('div');\n",
              "          docLink.innerHTML = docLinkHtml;\n",
              "          element.appendChild(docLink);\n",
              "        }\n",
              "      </script>\n",
              "    </div>\n",
              "  </div>\n"
            ]
          },
          "metadata": {},
          "execution_count": 20
        }
      ]
    },
    {
      "cell_type": "code",
      "source": [
        "path1='/content/drive/My Drive/idata_con_cl.csv'"
      ],
      "metadata": {
        "id": "zji7ovdnWkPD"
      },
      "execution_count": null,
      "outputs": []
    },
    {
      "cell_type": "code",
      "source": [
        "idata_con_cl=pd.read_csv(path1)"
      ],
      "metadata": {
        "id": "q5gSxegkWwUS"
      },
      "execution_count": null,
      "outputs": []
    },
    {
      "cell_type": "markdown",
      "source": [
        "Guardamos las tablas en SQL"
      ],
      "metadata": {
        "id": "p0xoKKtfW5Tj"
      }
    },
    {
      "cell_type": "code",
      "source": [
        "import sqlite3"
      ],
      "metadata": {
        "id": "3p-8V9jcX3vs"
      },
      "execution_count": null,
      "outputs": []
    },
    {
      "cell_type": "code",
      "source": [
        "con = sqlite3.connect('corpus.db')\n",
        "\n",
        "intrinsic_with_tfidf.iloc[:,0:3].to_sql('Tabla_Documentos', con, if_exists='replace', index=False)\n",
        "idata_con_cl.to_sql('Tabla_Segmentos', con, if_exists='replace', index=False)\n",
        "\n",
        "con.close()"
      ],
      "metadata": {
        "id": "zBUTXe8NW4oB"
      },
      "execution_count": null,
      "outputs": []
    },
    {
      "cell_type": "code",
      "source": [
        "import shutil\n",
        "\n",
        "# Ruta de la base de datos creada previamente\n",
        "db_path = 'corpus.db'\n",
        "\n",
        "# Ruta en tu Google Drive donde deseas guardar la base de datos\n",
        "drive_path = '/content/drive/My Drive/corpus.db'\n",
        "\n",
        "shutil.copyfile(db_path, drive_path)"
      ],
      "metadata": {
        "colab": {
          "base_uri": "https://localhost:8080/",
          "height": 35
        },
        "id": "QNNkpKXmW1fR",
        "outputId": "12246f8b-a829-4c7f-9545-9845ac456cd6"
      },
      "execution_count": null,
      "outputs": [
        {
          "output_type": "execute_result",
          "data": {
            "text/plain": [
              "'/content/drive/My Drive/corpus.db'"
            ],
            "application/vnd.google.colaboratory.intrinsic+json": {
              "type": "string"
            }
          },
          "metadata": {},
          "execution_count": 22
        }
      ]
    }
  ],
  "metadata": {
    "colab": {
      "provenance": []
    },
    "kernelspec": {
      "display_name": "Python 3",
      "name": "python3"
    },
    "language_info": {
      "name": "python"
    }
  },
  "nbformat": 4,
  "nbformat_minor": 0
}